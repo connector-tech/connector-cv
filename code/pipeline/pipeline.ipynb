{
  "cells": [
    {
      "cell_type": "markdown",
      "metadata": {},
      "source": [
        "\u041b\u043e\u0433\u0438\u043a\u0430 \u0440\u0430\u0431\u043e\u0442\u044b \u0442\u0430\u043a\u0430\u044f. \u041e\u0434\u043d\u0438\u043c \u0438\u0437 \u044d\u0442\u0430\u043f\u043e\u0432 \u0440\u0435\u0433\u0438\u0441\u0442\u0440\u0430\u0446\u0438\u0438/\u0432\u0445\u043e\u0434\u0430 \u043f\u0440\u043e\u0445\u043e\u0436\u0434\u0435\u043d\u0438\u0435 \u0438\u0434\u0435\u043d\u0442\u0438\u0444\u0438\u043a\u0430\u0446\u0438\u0438 \u0447\u0435\u0440\u0435\u0437 \u043a\u0430\u043c\u0435\u0440\u0443. \u0414\u043e\u043b\u0436\u043d\u0430 \u0431\u044b\u0442\u044c \u0441\u0442\u0440\u0430\u043d\u0438\u0446\u0430 \u043d\u0430 \u043a\u043e\u0442\u043e\u0440\u043e\u0439 \u0447\u0435\u043b\u043e\u0432\u0435\u043a \u0434\u043e\u043b\u0436\u0435\u043d \u0434\u0430\u0442\u044c \u0434\u043e\u0441\u0442\u0443\u043f \u043a\u0430\u043c\u0435\u0440\u0435 \u0447\u0435\u0440\u0435\u0437 \u043a\u043e\u0442\u043e\u0440\u0443\u044e \u043e\u043d \u0431\u0443\u0434\u0435\u0442 \u043f\u0440\u043e\u0445\u043e\u0434\u0438\u0442\u044c \u0430\u0443\u0442\u0435\u043d\u0442\u0438\u0444\u0438\u043a\u0430\u0446\u0438\u044e. \u041e\u043d \u0434\u043e\u043b\u0436\u0435\u043d \u0431\u0443\u0434\u0435\u0442 \u043f\u043e\u043c\u0435\u0441\u0442\u0438\u0442\u044c \u043b\u0438\u0446\u043e \u0432 \u0434\u0432\u0430 \u043a\u0432\u0430\u0434\u0440\u0430\u0442\u0430 \u0432\u0442\u043e\u0440\u043e\u0439 \u0447\u0443\u0442\u044c \u043c\u0435\u043d\u044c\u0448\u0435. \u041a\u0430\u043a \u0442\u043e\u043b\u044c\u043a\u043e \u043e\u043d \u0432\u043a\u043b\u044e\u0447\u0438\u043b \u043a\u0430\u043c\u0435\u0440\u0443 \u0438 \u0434\u043e \u0442\u043e\u0433\u043e \u043c\u043e\u043c\u0435\u043d\u0442\u0430 \u043f\u043e\u043a\u0430 \u043e\u043d \u043d\u0435 \u043f\u043e\u043c\u0435\u0441\u0442\u0438\u0442 \u043b\u0438\u0446\u043e \u0432 \u043f\u043e\u0441\u043b\u0435\u0434\u043d\u0438\u0439 \u043e\u0432\u0430\u043b \u0434\u043e\u043b\u0436\u043d\u044b \u0431\u0443\u0434\u0443\u0442 \u0441\u043e\u0445\u0440\u0430\u043d\u044f\u0442\u0441\u044f \u043a\u0430\u0434\u0440\u044b \u0432 jpg \u043a\u0430\u0436\u0434\u044b\u0435 1-5 \u0441\u0435\u043a\u0443\u043d\u0434. "
      ]
    },
    {
      "cell_type": "markdown",
      "metadata": {},
      "source": [
        "\u0412\u0441\u0435 \u043a\u0430\u0434\u0440\u044b \u043d\u0443\u0436\u043d\u043e \u0441\u043e\u0445\u0440\u0430\u043d\u0438\u0442\u044c \u0432 \u0431\u0430\u0437\u0443 \u043e\u0442\u0434\u0435\u043b\u044c\u043d\u043e\u0439 \u0441\u0435\u0441\u0441\u0438\u0435\u0439 \u0438 \u043d\u0430\u0437\u0432\u0430\u043d\u0438\u0435 \u0444\u043e\u0442\u043e\u043a \u0434\u043e\u043b\u0436\u043d\u044b \u0441\u043e\u0434\u0435\u0440\u0436\u0430\u0442\u044c \u043d\u043e\u043c\u0435\u0440 \u0441\u0435\u0441\u0441\u0438\u0438.\n",
        "\u041d\u0430\u043f\u0440\u0438\u043c\u0435\u0440 \u0441\u0435\u0441\u0441\u0438\u044f1-1 \u0441\u0435\u0441\u0441\u0438\u044f1-2. \u041a \u043a\u0430\u0436\u0434\u043e\u043c\u0443 \u0430\u043a\u043a\u0430\u0443\u043d\u0442\u0443 \u0434\u043e\u043b\u0436\u0435\u043d \u0431\u0443\u0434\u0435\u0442 \u043f\u0440\u0438\u0432\u044f\u0437\u0430\u043d \u043d\u043e\u043c\u0435\u0440 \u0441\u0435\u0441\u0441\u0438\u0438 \u043f\u0440\u0438 \u043f\u0435\u0440\u0432\u043e\u043c \u043f\u0440\u043e\u0445\u043e\u0436\u0434\u0435\u043d\u0438\u0438. \u041d\u043e \u043f\u0440\u0438 \u044d\u0442\u043e\u043c \u0441\u0435\u0441\u0441\u0438\u0438 \u0434\u043e\u043b\u0436\u043d\u044b \u0431\u0443\u0434\u0443\u0442 \u0441\u043e\u0445\u0440\u0430\u043d\u044f\u0442\u0441\u044f \u043f\u0440\u0438 \u043a\u0430\u0436\u0434\u043e\u043c \u043f\u0440\u043e\u0445\u043e\u0436\u0434\u0435\u043d\u0438\u0438."
      ]
    },
    {
      "cell_type": "markdown",
      "metadata": {},
      "source": [
        "\u0422\u0435\u043f\u0435\u0440\u044c \u043f\u043e\u0441\u043b\u0435 \u0442\u043e\u0433\u043e \u043a\u0430\u043a \u0432\u0441\u0435 \u043a\u0430\u0434\u0440\u044b \u0431\u0443\u0434\u0443\u0442 \u0441\u043e\u0431\u0440\u0430\u043d\u044b \u043d\u0443\u0436\u043d\u043e \u0431\u0443\u0434\u0435\u0442 \u043f\u0440\u043e\u0432\u0435\u0441\u0442\u0438 \u0432\u0441\u0435 \u0444\u043e\u0442\u043e\u0433\u0440\u0430\u0444\u0438\u0438 \u0447\u0435\u0440\u0435\u0437 \u043c\u043e\u0434\u0435\u043b\u044c detector \u0447\u0442\u043e\u0431\u044b \u043f\u043e\u043b\u0443\u0447\u0438\u0442\u044c \u043a\u043e\u043e\u0440\u0434\u0438\u043d\u0430\u0442\u044b \u043b\u0438\u0446\u0430, \u043d\u043e\u0441\u0430 \u043a\u043e\u043d\u0447\u0438\u043a\u043e\u0432 \u0440\u0442\u0430 \u0438 \u0433\u043b\u0430\u0437. \u041f\u043e\u0441\u043b\u0435 \u043d\u0430\u0434\u043e \u0431\u0443\u0434\u0435\u0442 \u043f\u0440\u043e\u0432\u0435\u0441\u0442\u0438 \u0432\u0441\u0435 \u043a\u0430\u0434\u0440\u044b \u0447\u0435\u0440\u0435\u0437 bestframer \u0447\u0442\u043e\u0431\u044b \u043f\u043e\u043b\u0443\u0447\u0438\u0442\u044c score \u0434\u043b\u044f \u043a\u0430\u0436\u0434\u043e\u0433\u043e \u043a\u0430\u0434\u0440\u0430. \u041f\u043e\u0441\u043b\u0435 \u043d\u0443\u0436\u043d\u043e \u0431\u0443\u0434\u0435\u0442 \u0441\u043e\u0445\u0440\u0430\u043d\u0438\u0442\u044c \u0432 \u0431\u0430\u0437\u0443 \u0432 \u0442\u0443 \u0436\u0435 \u0441\u0435\u0441\u0441\u0438\u044e \u043b\u0443\u0447\u0448\u0435 5 \u0444\u043e\u0442\u043e\u0433\u0440\u0430\u0444\u0438\u0438(\u0435\u0441\u043b\u0438 \u043d\u0435 \u0431\u0443\u0434\u0443\u0442 \u043f\u0440\u043e\u0445\u043e\u0434\u0438\u0442\u044c \u0447\u0435\u0440\u0435\u0437 \u0442\u0440\u0435\u0448\u0445\u043e\u043b\u0434 \u0442\u043e \u043c\u043e\u0436\u0435\u0442 \u0431\u044b\u0442\u044c \u0438 \u043c\u0435\u043d\u044c\u0448\u0435) \u0435\u0449\u0435 \u043e\u0434\u043d\u0443 \u043f\u0430\u043f\u043a\u0443 \u0432 \u0442\u043e\u0439 \u0436\u0435 \u0441\u0435\u0441\u0441\u0438\u0438. \u041d\u0430 \u044d\u0442\u043e\u043c \u0437\u0430\u043a\u0430\u043d\u0447\u0438\u0432\u0430\u0435\u0442\u0441\u044f \u0440\u0435\u0433\u0438\u0441\u0442\u0440\u0430\u0446\u0438\u044f. \u0415\u0441\u043b\u0438 \u0436\u0435 \u044d\u0442\u043e \u043d\u0435 \u043f\u0435\u0440\u0432\u044b\u0439 \u0432\u0445\u043e\u0434 \u0442\u043e \u043d\u0443\u0436\u043d\u043e \u0431\u0443\u0434\u0435\u0442 \u0441\u0440\u0430\u0432\u043d\u0438\u0442\u044c \u043d\u0430\u0438\u043b\u0443\u0447\u0448\u0438\u0435 \u043a\u0430\u0434\u0440\u044b \u043f\u0435\u0440\u0432\u043e\u0439 \u0441\u0435\u0441\u0441\u0438\u0438 \u0438 \u043d\u044b\u043d\u0435\u0448\u043d\u0435\u0439. \u0415\u0441\u043b\u0438 \u0432\u0441\u0451 \u043e\u043a \u0442\u043e \u043f\u0440\u043e\u043f\u0443\u0441\u043a\u0430\u0435\u043c \u0434\u0430\u043b\u044c\u0448\u0435."
      ]
    },
    {
      "cell_type": "code",
      "execution_count": 11,
      "metadata": {},
      "outputs": [],
      "source": [
        "import os\n",
        "import time\n",
        "import cv2\n",
        "\n",
        "from diploma.models.detector import FaceDetector\n",
        "from diploma.drawing import draw_landmarks, draw_rectangles\n",
        "\n",
        "detector = FaceDetector(\"E:\\kbtu_courses\\diploma_project\\src\\diploma\\models\\detector\\weights\\model_detector.onnx\")\n",
        "\n",
        "axes = (100, 150)    \n",
        "angle = 0            \n",
        "startAngle = 0       \n",
        "endAngle = 360       \n",
        "color = (0, 255, 0)  \n",
        "thickness = 2  \n",
        "\n",
        "cap = cv2.VideoCapture(0)\n",
        "\n",
        "if not cap.isOpened():\n",
        "    print(\"Error: Could not open camera.\")\n",
        "    exit()\n",
        "\n",
        "output_dir = 'E:/kbtu_courses/diploma_project/src/diploma/pipeline/frames'\n",
        "\n",
        "save_interval = 4\n",
        "start_time = time.time()\n",
        "\n",
        "end_capture = False\n",
        "\n",
        "while True:\n",
        "    ret, frame = cap.read()\n",
        "\n",
        "    if time.time() - start_time >= save_interval:\n",
        "        #filename = os.path.join(output_dir, f\"frame_{int(time.time())}.jpg\")\n",
        "        #cv2.imwrite(filename, frame)\n",
        "        start_time = time.time()\n",
        "\n",
        "    boxes, landmarks = detector.detect(frame, input_size=(640, 640))\n",
        "\n",
        "    center = (frame.shape[1] // 2, frame.shape[0] // 2)\n",
        "\n",
        "    cv2.ellipse(frame, center, axes, angle, startAngle, endAngle, color, thickness)\n",
        "\n",
        "\n",
        "    x1 = center[0] - axes[0] - 20\n",
        "    y1 = center[1] - axes[1] - 20\n",
        "\n",
        "    x2 = x1 + 2 * axes[0] + 40\n",
        "    y2 = y1 + 2 * axes[1] + 40\n",
        "\n",
        "    cv2.rectangle(frame, (x1, y1), (x2, y2), color, thickness)\n",
        "\n",
        "    frame = draw_rectangles(frame, bboxes = boxes, override=True)\n",
        "    frame = draw_landmarks(frame, landmarks=landmarks)\n",
        "\n",
        "    if (boxes[0][0] >= x1) and (boxes[0][1] >= y1) and (boxes[0][2] <= x2) and (boxes[0][3] <= y2):\n",
        "        end_capture = True\n",
        "\n",
        "    if not ret:\n",
        "        print(\"Error: Could not capture frame.\")\n",
        "        break\n",
        "\n",
        "    cv2.imshow('Camera', frame)\n",
        "\n",
        "    if cv2.waitKey(1) & 0xFF == ord('q'):\n",
        "        break\n",
        "\n",
        "\n",
        "cap.release()\n",
        "cv2.destroyAllWindows()\n"
      ]
    },
    {
      "cell_type": "code",
      "execution_count": null,
      "metadata": {},
      "outputs": [],
      "source": [
        "face1 = cv2.imread(\"photo\")\n",
        "face2 = cv2.imread(\"photo\")\n",
        "\n",
        "face_bbox1, face_landmarks1 = FaceDetector(face1)\n",
        "face_bbox2, face_landmarks2 = FaceDetector(face2)\n",
        "\n",
        "\n",
        "aligned1 = align_face(face1, face_bbox1[0][:-1], face_landmarks1[0])\n",
        "aligned2 = align_face(face2, face_bbox2[0][:-1], face_landmarks2[0])\n",
        "\n",
        "embedding1 = FaceRecognition(aligned1)\n",
        "embedding2 = FaceRecognition(aligned2)\n",
        "\n",
        "sim = cosine_simularity(embedding1, embedding2)\n",
        "\n",
        "print(sim)"
      ]
    }
  ],
  "metadata": {
    "kernelspec": {
      "display_name": "base",
      "language": "python",
      "name": "python3"
    },
    "language_info": {
      "codemirror_mode": {
        "name": "ipython",
        "version": 3
      },
      "file_extension": ".py",
      "mimetype": "text/x-python",
      "name": "python",
      "nbconvert_exporter": "python",
      "pygments_lexer": "ipython3",
      "version": "3.11.5"
    }
  },
  "nbformat": 4,
  "nbformat_minor": 2
}
