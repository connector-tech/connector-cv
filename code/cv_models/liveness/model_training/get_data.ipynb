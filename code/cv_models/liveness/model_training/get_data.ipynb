{
 "cells": [
  {
   "cell_type": "code",
   "execution_count": 1,
   "metadata": {},
   "outputs": [],
   "source": [
    "import os\n",
    "import shutil\n",
    "import pandas as pd\n",
    "\n",
    "from tqdm import tqdm\n",
    "from sklearn.model_selection import train_test_split"
   ]
  },
  {
   "cell_type": "code",
   "execution_count": 2,
   "metadata": {},
   "outputs": [],
   "source": [
    "path = \"C:/Users/Уалихан/Downloads/CelebA_Spoof.zip/CelebA_Spoof/Data/test\"\n",
    "new_path = \"E:\\kbtu_courses\\diploma_project\\src\\diploma/data\""
   ]
  },
  {
   "cell_type": "code",
   "execution_count": 3,
   "metadata": {},
   "outputs": [
    {
     "name": "stderr",
     "output_type": "stream",
     "text": [
      "100%|██████████| 18/18 [00:03<00:00,  4.66it/s]\n"
     ]
    }
   ],
   "source": [
    "for fr1 in tqdm(os.listdir(path)):\n",
    "    fr2 = os.path.join(path, fr1) \n",
    "\n",
    "    if os.path.isdir(fr2):\n",
    "        spoof = os.path.join(new_path, \"spoof\")\n",
    "        live = os.path.join(new_path, \"live\")\n",
    "\n",
    "    for fr3 in os.listdir(fr2):\n",
    "\n",
    "        fr4 = os.path.join(fr2, fr3)\n",
    "\n",
    "        for fr5 in os.listdir(fr4): \n",
    "            fr6 = os.path.join(fr4, fr5)\n",
    "            if fr5.endswith(\".png\"):\n",
    "                if fr3 == \"spoof\":\n",
    "                    shutil.copy(fr6, os.path.join(spoof, fr5))\n",
    "                elif fr3 == \"live\":\n",
    "                    shutil.copy(fr6, os.path.join(live, fr5))"
   ]
  },
  {
   "cell_type": "code",
   "execution_count": 4,
   "metadata": {},
   "outputs": [],
   "source": [
    "source = \"E:/kbtu_courses/diploma_project/src/diploma/data\"\n",
    "\n",
    "data = []\n",
    "\n",
    "for label in [\"spoof\", \"live\"]:\n",
    "    label_path = os.path.join(source, label)\n",
    "    \n",
    "    for file in os.listdir(label_path):\n",
    "        file_path = os.path.join(label_path, file)\n",
    "        data.append({\"path\": file_path, \"label\": 0 if label == \"spoof\" else 1})\n",
    "\n",
    "df = pd.DataFrame(data)"
   ]
  },
  {
   "cell_type": "code",
   "execution_count": 5,
   "metadata": {},
   "outputs": [
    {
     "data": {
      "text/html": [
       "<div>\n",
       "<style scoped>\n",
       "    .dataframe tbody tr th:only-of-type {\n",
       "        vertical-align: middle;\n",
       "    }\n",
       "\n",
       "    .dataframe tbody tr th {\n",
       "        vertical-align: top;\n",
       "    }\n",
       "\n",
       "    .dataframe thead th {\n",
       "        text-align: right;\n",
       "    }\n",
       "</style>\n",
       "<table border=\"1\" class=\"dataframe\">\n",
       "  <thead>\n",
       "    <tr style=\"text-align: right;\">\n",
       "      <th></th>\n",
       "      <th>path</th>\n",
       "      <th>label</th>\n",
       "    </tr>\n",
       "  </thead>\n",
       "  <tbody>\n",
       "    <tr>\n",
       "      <th>0</th>\n",
       "      <td>E:/kbtu_courses/diploma_project/src/diploma/da...</td>\n",
       "      <td>0</td>\n",
       "    </tr>\n",
       "    <tr>\n",
       "      <th>1</th>\n",
       "      <td>E:/kbtu_courses/diploma_project/src/diploma/da...</td>\n",
       "      <td>0</td>\n",
       "    </tr>\n",
       "    <tr>\n",
       "      <th>2</th>\n",
       "      <td>E:/kbtu_courses/diploma_project/src/diploma/da...</td>\n",
       "      <td>0</td>\n",
       "    </tr>\n",
       "    <tr>\n",
       "      <th>3</th>\n",
       "      <td>E:/kbtu_courses/diploma_project/src/diploma/da...</td>\n",
       "      <td>0</td>\n",
       "    </tr>\n",
       "    <tr>\n",
       "      <th>4</th>\n",
       "      <td>E:/kbtu_courses/diploma_project/src/diploma/da...</td>\n",
       "      <td>0</td>\n",
       "    </tr>\n",
       "    <tr>\n",
       "      <th>...</th>\n",
       "      <td>...</td>\n",
       "      <td>...</td>\n",
       "    </tr>\n",
       "    <tr>\n",
       "      <th>11428</th>\n",
       "      <td>E:/kbtu_courses/diploma_project/src/diploma/da...</td>\n",
       "      <td>1</td>\n",
       "    </tr>\n",
       "    <tr>\n",
       "      <th>11429</th>\n",
       "      <td>E:/kbtu_courses/diploma_project/src/diploma/da...</td>\n",
       "      <td>1</td>\n",
       "    </tr>\n",
       "    <tr>\n",
       "      <th>11430</th>\n",
       "      <td>E:/kbtu_courses/diploma_project/src/diploma/da...</td>\n",
       "      <td>1</td>\n",
       "    </tr>\n",
       "    <tr>\n",
       "      <th>11431</th>\n",
       "      <td>E:/kbtu_courses/diploma_project/src/diploma/da...</td>\n",
       "      <td>1</td>\n",
       "    </tr>\n",
       "    <tr>\n",
       "      <th>11432</th>\n",
       "      <td>E:/kbtu_courses/diploma_project/src/diploma/da...</td>\n",
       "      <td>1</td>\n",
       "    </tr>\n",
       "  </tbody>\n",
       "</table>\n",
       "<p>11433 rows × 2 columns</p>\n",
       "</div>"
      ],
      "text/plain": [
       "                                                    path  label\n",
       "0      E:/kbtu_courses/diploma_project/src/diploma/da...      0\n",
       "1      E:/kbtu_courses/diploma_project/src/diploma/da...      0\n",
       "2      E:/kbtu_courses/diploma_project/src/diploma/da...      0\n",
       "3      E:/kbtu_courses/diploma_project/src/diploma/da...      0\n",
       "4      E:/kbtu_courses/diploma_project/src/diploma/da...      0\n",
       "...                                                  ...    ...\n",
       "11428  E:/kbtu_courses/diploma_project/src/diploma/da...      1\n",
       "11429  E:/kbtu_courses/diploma_project/src/diploma/da...      1\n",
       "11430  E:/kbtu_courses/diploma_project/src/diploma/da...      1\n",
       "11431  E:/kbtu_courses/diploma_project/src/diploma/da...      1\n",
       "11432  E:/kbtu_courses/diploma_project/src/diploma/da...      1\n",
       "\n",
       "[11433 rows x 2 columns]"
      ]
     },
     "execution_count": 5,
     "metadata": {},
     "output_type": "execute_result"
    }
   ],
   "source": [
    "df"
   ]
  },
  {
   "cell_type": "code",
   "execution_count": 6,
   "metadata": {},
   "outputs": [],
   "source": [
    "train_val_df, test_df = train_test_split(df, test_size=0.2, stratify=df['label'], random_state=42)\n",
    "\n",
    "train_df, val_df = train_test_split(train_val_df, test_size=0.25, stratify=train_val_df['label'], random_state=42)\n",
    "\n",
    "train_df.to_csv(\"train_v1.csv\", index=False)\n",
    "val_df.to_csv(\"val_v1.csv\", index=False)\n",
    "test_df.to_csv(\"test_v1.csv\", index=False)"
   ]
  },
  {
   "cell_type": "code",
   "execution_count": null,
   "metadata": {},
   "outputs": [],
   "source": []
  },
  {
   "cell_type": "code",
   "execution_count": 18,
   "metadata": {},
   "outputs": [
    {
     "name": "stdout",
     "output_type": "stream",
     "text": [
      "Skipping non-PNG file: path\n",
      "Failed to convert E:/kbtu_courses/diploma_project/src/diploma/data\\spoof\\508554.png: image file is truncated\n",
      "Failed to convert E:/kbtu_courses/diploma_project/src/diploma/data\\spoof\\496991.png: image file is truncated\n"
     ]
    }
   ],
   "source": [
    "import os\n",
    "import csv\n",
    "from PIL import Image\n",
    "\n",
    "csv_path = 'E:/kbtu_courses/diploma_project/src/diploma/models/liveness/model_training/csv_data/test_v2.csv'\n",
    "\n",
    "try:\n",
    "    with open(csv_path, newline='') as csvfile:\n",
    "        reader = csv.reader(csvfile)\n",
    "        for row in reader:\n",
    "            png_path = row[0]\n",
    "            \n",
    "            if png_path.lower().endswith('.png'):\n",
    "                try:\n",
    "                    with Image.open(png_path) as img:\n",
    "                        rgb_img = img.convert('RGB')\n",
    "                        jpg_path = os.path.splitext(png_path)[0] + '.jpg'\n",
    "                        rgb_img.save(jpg_path, 'JPEG')\n",
    "                        os.remove(png_path)\n",
    "                except Exception as e:\n",
    "                    print(f\"Failed to convert {png_path}: {e}\")\n",
    "            else:\n",
    "                print(f\"Skipping non-PNG file: {png_path}\")\n",
    "except Exception as e:\n",
    "    print(f\"Failed to process CSV file: {e}\")"
   ]
  },
  {
   "cell_type": "code",
   "execution_count": 19,
   "metadata": {},
   "outputs": [],
   "source": [
    "import pandas as pd\n",
    "\n",
    "df = pd.read_csv('E:/kbtu_courses/diploma_project/src/diploma/models/liveness/model_training/csv_data/test_v2.csv')\n",
    "\n",
    "photos = [\n",
    "    'E:/kbtu_courses/diploma_project/src/diploma/data\\spoof\\508554.png',\n",
    "    'E:/kbtu_courses/diploma_project/src/diploma/data\\spoof\\496991.png',\n",
    "]\n",
    "\n",
    "df = df[~df['path'].isin(photos)]\n",
    "\n",
    "df['path'] = df['path'].str.replace('.png', '.jpg')\n",
    "\n",
    "df.to_csv('test_v2.csv', index=False)"
   ]
  },
  {
   "cell_type": "code",
   "execution_count": null,
   "metadata": {},
   "outputs": [],
   "source": []
  }
 ],
 "metadata": {
  "kernelspec": {
   "display_name": "base",
   "language": "python",
   "name": "python3"
  },
  "language_info": {
   "codemirror_mode": {
    "name": "ipython",
    "version": 3
   },
   "file_extension": ".py",
   "mimetype": "text/x-python",
   "name": "python",
   "nbconvert_exporter": "python",
   "pygments_lexer": "ipython3",
   "version": "3.11.5"
  }
 },
 "nbformat": 4,
 "nbformat_minor": 2
}
