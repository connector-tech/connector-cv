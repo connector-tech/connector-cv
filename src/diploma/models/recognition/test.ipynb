{
 "cells": [
  {
   "cell_type": "code",
   "execution_count": 1,
   "metadata": {},
   "outputs": [],
   "source": [
    "import cv2\n",
    "\n",
    "from face_rec_onnx import FaceRecONNX\n",
    "from diploma.utils import cosine_simularity"
   ]
  },
  {
   "cell_type": "code",
   "execution_count": 2,
   "metadata": {},
   "outputs": [],
   "source": [
    "x1 = cv2.imread('E:\\kbtu_courses\\diploma_project\\src\\diploma\\photos\\MyPhoto1.jpg')\n",
    "x2 = cv2.imread('E:\\kbtu_courses\\diploma_project\\src\\diploma\\photos\\MyPhoto2.jpg')\n",
    "x3 = cv2.imread('E:\\kbtu_courses\\diploma_project\\src\\diploma\\photos\\Rusya.jpg')\n",
    "x4 = cv2.imread('E:\\kbtu_courses\\diploma_project\\src\\diploma\\photos\\Bayka.jpg')"
   ]
  },
  {
   "cell_type": "code",
   "execution_count": 3,
   "metadata": {},
   "outputs": [],
   "source": [
    "frec = FaceRecONNX('E:/kbtu_courses/diploma_project/src/diploma/models/recognition/weights/model_recognition.onnx')"
   ]
  },
  {
   "cell_type": "code",
   "execution_count": 4,
   "metadata": {},
   "outputs": [],
   "source": [
    "x1_rec = frec(x1)\n",
    "x2_rec = frec(x2)\n",
    "x3_rec = frec(x3)\n",
    "x4_rec = frec(x4)"
   ]
  },
  {
   "cell_type": "code",
   "execution_count": 5,
   "metadata": {},
   "outputs": [
    {
     "name": "stdout",
     "output_type": "stream",
     "text": [
      "[[0.7833235]]\n",
      "[[0.20128185]]\n",
      "[[0.09571555]]\n"
     ]
    }
   ],
   "source": [
    "score12 = cosine_simularity(x1_rec, x2_rec)\n",
    "score13 = cosine_simularity(x1_rec, x3_rec)\n",
    "score14 = cosine_simularity(x1_rec, x4_rec)\n",
    "\n",
    "print(score12)\n",
    "print(score13)\n",
    "print(score14)"
   ]
  },
  {
   "cell_type": "code",
   "execution_count": 6,
   "metadata": {},
   "outputs": [
    {
     "name": "stdout",
     "output_type": "stream",
     "text": [
      "[[0.22999555]]\n",
      "[[0.14892995]]\n"
     ]
    }
   ],
   "source": [
    "score23 = cosine_simularity(x2_rec, x3_rec)\n",
    "score24 = cosine_simularity(x2_rec, x4_rec)\n",
    "\n",
    "print(score23)\n",
    "print(score24)"
   ]
  },
  {
   "cell_type": "code",
   "execution_count": 7,
   "metadata": {},
   "outputs": [
    {
     "name": "stdout",
     "output_type": "stream",
     "text": [
      "[[-0.06638058]]\n"
     ]
    }
   ],
   "source": [
    "score34 = cosine_simularity(x3_rec, x4_rec)\n",
    "\n",
    "print(score34)"
   ]
  },
  {
   "cell_type": "code",
   "execution_count": null,
   "metadata": {},
   "outputs": [],
   "source": []
  }
 ],
 "metadata": {
  "kernelspec": {
   "display_name": "base",
   "language": "python",
   "name": "python3"
  },
  "language_info": {
   "codemirror_mode": {
    "name": "ipython",
    "version": 3
   },
   "file_extension": ".py",
   "mimetype": "text/x-python",
   "name": "python",
   "nbconvert_exporter": "python",
   "pygments_lexer": "ipython3",
   "version": "3.11.5"
  }
 },
 "nbformat": 4,
 "nbformat_minor": 2
}
