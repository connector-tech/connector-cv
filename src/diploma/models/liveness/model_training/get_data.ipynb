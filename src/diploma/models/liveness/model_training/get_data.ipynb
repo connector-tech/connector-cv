{
 "cells": [
  {
   "cell_type": "code",
   "execution_count": 1,
   "metadata": {},
   "outputs": [],
   "source": [
    "import os\n",
    "import shutil\n",
    "import pandas as pd\n",
    "\n",
    "from tqdm import tqdm\n",
    "from sklearn.model_selection import train_test_split"
   ]
  },
  {
   "cell_type": "code",
   "execution_count": 2,
   "metadata": {},
   "outputs": [],
   "source": [
    "path = \"C:/Users/Уалихан/Downloads/CelebA_Spoof.zip/CelebA_Spoof/Data/train\"\n",
    "new_path = \"E:\\kbtu_courses\\diploma_project\\src\\diploma/data\""
   ]
  },
  {
   "cell_type": "code",
   "execution_count": 3,
   "metadata": {},
   "outputs": [
    {
     "name": "stderr",
     "output_type": "stream",
     "text": [
      "100%|██████████| 135/135 [00:11<00:00, 11.49it/s]\n"
     ]
    }
   ],
   "source": [
    "for fr1 in tqdm(os.listdir(path)):\n",
    "    fr2 = os.path.join(path, fr1) \n",
    "\n",
    "    if os.path.isdir(fr2):\n",
    "        spoof = os.path.join(new_path, \"spoof\")\n",
    "        live = os.path.join(new_path, \"live\")\n",
    "\n",
    "    for fr3 in os.listdir(fr2):\n",
    "\n",
    "        fr4 = os.path.join(fr2, fr3)\n",
    "\n",
    "        for fr5 in os.listdir(fr4): \n",
    "            fr6 = os.path.join(fr4, fr5)\n",
    "            if fr5.endswith(\".jpg\"):\n",
    "                if fr3 == \"spoof\":\n",
    "                    shutil.copy(fr6, os.path.join(spoof, fr5))\n",
    "                elif fr3 == \"live\":\n",
    "                    shutil.copy(fr6, os.path.join(live, fr5))"
   ]
  },
  {
   "cell_type": "code",
   "execution_count": 2,
   "metadata": {},
   "outputs": [],
   "source": [
    "source = \"E:/kbtu_courses/diploma_project/src/diploma/data\"\n",
    "\n",
    "data = []\n",
    "\n",
    "for label in [\"spoof\", \"live\"]:\n",
    "    label_path = os.path.join(source, label)\n",
    "    \n",
    "    for file in os.listdir(label_path):\n",
    "        file_path = os.path.join(label_path, file)\n",
    "        data.append({\"path\": file_path, \"label\": 0 if label == \"spoof\" else 1})\n",
    "\n",
    "df = pd.DataFrame(data)"
   ]
  },
  {
   "cell_type": "code",
   "execution_count": 3,
   "metadata": {},
   "outputs": [
    {
     "data": {
      "text/html": [
       "<div>\n",
       "<style scoped>\n",
       "    .dataframe tbody tr th:only-of-type {\n",
       "        vertical-align: middle;\n",
       "    }\n",
       "\n",
       "    .dataframe tbody tr th {\n",
       "        vertical-align: top;\n",
       "    }\n",
       "\n",
       "    .dataframe thead th {\n",
       "        text-align: right;\n",
       "    }\n",
       "</style>\n",
       "<table border=\"1\" class=\"dataframe\">\n",
       "  <thead>\n",
       "    <tr style=\"text-align: right;\">\n",
       "      <th></th>\n",
       "      <th>path</th>\n",
       "      <th>label</th>\n",
       "    </tr>\n",
       "  </thead>\n",
       "  <tbody>\n",
       "    <tr>\n",
       "      <th>0</th>\n",
       "      <td>E:/kbtu_courses/diploma_project/src/diploma/da...</td>\n",
       "      <td>0</td>\n",
       "    </tr>\n",
       "    <tr>\n",
       "      <th>1</th>\n",
       "      <td>E:/kbtu_courses/diploma_project/src/diploma/da...</td>\n",
       "      <td>0</td>\n",
       "    </tr>\n",
       "    <tr>\n",
       "      <th>2</th>\n",
       "      <td>E:/kbtu_courses/diploma_project/src/diploma/da...</td>\n",
       "      <td>0</td>\n",
       "    </tr>\n",
       "    <tr>\n",
       "      <th>3</th>\n",
       "      <td>E:/kbtu_courses/diploma_project/src/diploma/da...</td>\n",
       "      <td>0</td>\n",
       "    </tr>\n",
       "    <tr>\n",
       "      <th>4</th>\n",
       "      <td>E:/kbtu_courses/diploma_project/src/diploma/da...</td>\n",
       "      <td>0</td>\n",
       "    </tr>\n",
       "    <tr>\n",
       "      <th>...</th>\n",
       "      <td>...</td>\n",
       "      <td>...</td>\n",
       "    </tr>\n",
       "    <tr>\n",
       "      <th>8885</th>\n",
       "      <td>E:/kbtu_courses/diploma_project/src/diploma/da...</td>\n",
       "      <td>1</td>\n",
       "    </tr>\n",
       "    <tr>\n",
       "      <th>8886</th>\n",
       "      <td>E:/kbtu_courses/diploma_project/src/diploma/da...</td>\n",
       "      <td>1</td>\n",
       "    </tr>\n",
       "    <tr>\n",
       "      <th>8887</th>\n",
       "      <td>E:/kbtu_courses/diploma_project/src/diploma/da...</td>\n",
       "      <td>1</td>\n",
       "    </tr>\n",
       "    <tr>\n",
       "      <th>8888</th>\n",
       "      <td>E:/kbtu_courses/diploma_project/src/diploma/da...</td>\n",
       "      <td>1</td>\n",
       "    </tr>\n",
       "    <tr>\n",
       "      <th>8889</th>\n",
       "      <td>E:/kbtu_courses/diploma_project/src/diploma/da...</td>\n",
       "      <td>1</td>\n",
       "    </tr>\n",
       "  </tbody>\n",
       "</table>\n",
       "<p>8890 rows × 2 columns</p>\n",
       "</div>"
      ],
      "text/plain": [
       "                                                   path  label\n",
       "0     E:/kbtu_courses/diploma_project/src/diploma/da...      0\n",
       "1     E:/kbtu_courses/diploma_project/src/diploma/da...      0\n",
       "2     E:/kbtu_courses/diploma_project/src/diploma/da...      0\n",
       "3     E:/kbtu_courses/diploma_project/src/diploma/da...      0\n",
       "4     E:/kbtu_courses/diploma_project/src/diploma/da...      0\n",
       "...                                                 ...    ...\n",
       "8885  E:/kbtu_courses/diploma_project/src/diploma/da...      1\n",
       "8886  E:/kbtu_courses/diploma_project/src/diploma/da...      1\n",
       "8887  E:/kbtu_courses/diploma_project/src/diploma/da...      1\n",
       "8888  E:/kbtu_courses/diploma_project/src/diploma/da...      1\n",
       "8889  E:/kbtu_courses/diploma_project/src/diploma/da...      1\n",
       "\n",
       "[8890 rows x 2 columns]"
      ]
     },
     "execution_count": 3,
     "metadata": {},
     "output_type": "execute_result"
    }
   ],
   "source": [
    "df"
   ]
  },
  {
   "cell_type": "code",
   "execution_count": 4,
   "metadata": {},
   "outputs": [],
   "source": [
    "train_df, val_df = train_test_split(df, test_size=0.2, stratify=df['label'], random_state=42)\n",
    "\n",
    "train_df.to_csv(\"train_v1.csv\", index=False)\n",
    "val_df.to_csv(\"val_v1.csv\", index=False)"
   ]
  },
  {
   "cell_type": "code",
   "execution_count": null,
   "metadata": {},
   "outputs": [],
   "source": []
  }
 ],
 "metadata": {
  "kernelspec": {
   "display_name": "base",
   "language": "python",
   "name": "python3"
  },
  "language_info": {
   "codemirror_mode": {
    "name": "ipython",
    "version": 3
   },
   "file_extension": ".py",
   "mimetype": "text/x-python",
   "name": "python",
   "nbconvert_exporter": "python",
   "pygments_lexer": "ipython3",
   "version": "3.11.5"
  }
 },
 "nbformat": 4,
 "nbformat_minor": 2
}
