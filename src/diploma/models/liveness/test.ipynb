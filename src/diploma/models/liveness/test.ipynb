{
 "cells": [
  {
   "cell_type": "code",
   "execution_count": 1,
   "metadata": {},
   "outputs": [],
   "source": [
    "import cv2\n",
    "import matplotlib.pyplot as plt\n",
    "\n",
    "from diploma.drawing import draw_landmarks, draw_rectangles\n",
    "from diploma.models import LivenessPytorch, LivenessONNX"
   ]
  },
  {
   "cell_type": "code",
   "execution_count": 2,
   "metadata": {},
   "outputs": [],
   "source": [
    "x1 = cv2.imread(\"E:/kbtu_courses/diploma_project/src/diploma/photos/as1.jpg\")\n",
    "x2 = cv2.imread(\"E:/kbtu_courses/diploma_project/src/diploma/photos/attack1.jpg\")\n",
    "x3 = cv2.imread(\"E:/kbtu_courses/diploma_project/src/diploma/photos/attack2.jpg\")\n",
    "x4 = cv2.imread(\"E:/kbtu_courses/diploma_project/src/diploma/photos/attack3.jpg\")\n",
    "x5 = cv2.imread(\"E:/kbtu_courses/diploma_project/src/diploma/photos/attack4.jpg\")"
   ]
  },
  {
   "cell_type": "code",
   "execution_count": 3,
   "metadata": {},
   "outputs": [],
   "source": [
    "live = LivenessPytorch(\"E:/kbtu_courses/diploma_project/src/diploma/models/liveness/weights/model_liveness.pt\")\n",
    "live1 = LivenessONNX(\"E:/kbtu_courses/diploma_project/src/diploma/models/liveness/weights/model_liveness.onnx\")"
   ]
  },
  {
   "cell_type": "code",
   "execution_count": 4,
   "metadata": {},
   "outputs": [],
   "source": [
    "score1 = live(x1)\n",
    "score2 = live(x2)\n",
    "score3 = live(x3)\n",
    "score4 = live(x4)\n",
    "score5 = live(x5)"
   ]
  },
  {
   "cell_type": "code",
   "execution_count": 5,
   "metadata": {},
   "outputs": [
    {
     "name": "stdout",
     "output_type": "stream",
     "text": [
      "0.7596603631973267\n",
      "0.03642568737268448\n",
      "0.011751958169043064\n",
      "0.001208153204061091\n",
      "0.0014424751279875636\n"
     ]
    }
   ],
   "source": [
    "print(score1)\n",
    "print(score2)\n",
    "print(score3)\n",
    "print(score4)\n",
    "print(score5)"
   ]
  },
  {
   "cell_type": "code",
   "execution_count": 6,
   "metadata": {},
   "outputs": [],
   "source": [
    "score1 = live1(x1)\n",
    "score2 = live1(x2)\n",
    "score3 = live1(x3)\n",
    "score4 = live1(x4)\n",
    "score5 = live1(x5)"
   ]
  },
  {
   "cell_type": "code",
   "execution_count": 7,
   "metadata": {},
   "outputs": [
    {
     "name": "stdout",
     "output_type": "stream",
     "text": [
      "0.75966084\n",
      "0.036426276\n",
      "0.0117520075\n",
      "0.0012081572\n",
      "0.0014424683\n"
     ]
    }
   ],
   "source": [
    "print(score1)\n",
    "print(score2)\n",
    "print(score3)\n",
    "print(score4)\n",
    "print(score5)"
   ]
  },
  {
   "cell_type": "code",
   "execution_count": 8,
   "metadata": {},
   "outputs": [],
   "source": [
    "x1 = cv2.imread(\"E:/kbtu_courses/diploma_project/src/diploma/photos/Rusya_Big1.jpg\")\n",
    "x2 = cv2.imread(\"E:/kbtu_courses/diploma_project/src/diploma/photos/Asyl_Big2.jpg\")\n",
    "x3 = cv2.imread(\"E:/kbtu_courses/diploma_project/src/diploma/photos/Asyl_Big3.jpg\")\n",
    "x4 = cv2.imread(\"E:/kbtu_courses/diploma_project/src/diploma/photos/MyPhoto1.jpg\")\n",
    "x5 = cv2.imread(\"E:/kbtu_courses/diploma_project/src/diploma/photos/MyPhoto2.jpg\")\n",
    "x6 = cv2.imread(\"E:/kbtu_courses/diploma_project/src/diploma/photos/test3.jpg\")"
   ]
  },
  {
   "cell_type": "code",
   "execution_count": 9,
   "metadata": {},
   "outputs": [],
   "source": [
    "score1 = live(x1)\n",
    "score2 = live(x2)\n",
    "score3 = live(x3)\n",
    "score4 = live(x4)\n",
    "score5 = live(x5)\n",
    "score6 = live(x6)"
   ]
  },
  {
   "cell_type": "code",
   "execution_count": 13,
   "metadata": {},
   "outputs": [
    {
     "name": "stdout",
     "output_type": "stream",
     "text": [
      "0.8928104639053345\n",
      "0.7644273638725281\n",
      "0.8388491272926331\n",
      "0.5116111636161804\n",
      "0.02256532572209835\n",
      "0.016968702897429466\n"
     ]
    }
   ],
   "source": [
    "print(score1)\n",
    "print(score2)\n",
    "print(score3)\n",
    "print(score4)\n",
    "print(score5)\n",
    "print(score6)"
   ]
  },
  {
   "cell_type": "code",
   "execution_count": 11,
   "metadata": {},
   "outputs": [],
   "source": [
    "x1 = cv2.imread('E:/kbtu_courses/diploma_project/src/diploma/photos/tt1.jpg')\n",
    "x2 = cv2.imread('E:/kbtu_courses/diploma_project/src/diploma/photos/tt2.jpg')\n",
    "x3 = cv2.imread('E:/kbtu_courses/diploma_project/src/diploma/photos/tt3.jpg')\n",
    "x4 = cv2.imread('E:/kbtu_courses/diploma_project/src/diploma/photos/tt4.jpg')\n",
    "x5 = cv2.imread('E:/kbtu_courses/diploma_project/src/diploma/photos/tt5.jpg')\n",
    "x6 = cv2.imread('E:/kbtu_courses/diploma_project/src/diploma/photos/tt6.jpg')\n",
    "x7 = cv2.imread('E:/kbtu_courses/diploma_project/src/diploma/photos/t7.jpg')\n",
    "x8 = cv2.imread('E:/kbtu_courses/diploma_project/src/diploma/photos/t8.jpg')\n",
    "x9 = cv2.imread('E:/kbtu_courses/diploma_project/src/diploma/photos/t9.jpg')\n",
    "x10 = cv2.imread('E:/kbtu_courses/diploma_project/src/diploma/photos/t10.jpg')\n",
    "x11 = cv2.imread('E:/kbtu_courses/diploma_project/src/diploma/photos/t11.jpg')\n",
    "x12 = cv2.imread('E:/kbtu_courses/diploma_project/src/diploma/photos/t12.jpg')\n",
    "x13 = cv2.imread('E:/kbtu_courses/diploma_project/src/diploma/photos/t13.jpg')"
   ]
  },
  {
   "cell_type": "code",
   "execution_count": 12,
   "metadata": {},
   "outputs": [],
   "source": [
    "score1 = live(x1)\n",
    "score2 = live(x2)\n",
    "score3 = live(x3)\n",
    "score4 = live(x4)\n",
    "score5 = live(x5)\n",
    "score6 = live(x6)\n",
    "score7 = live(x7)\n",
    "score8 = live(x8)\n",
    "score9 = live(x9)\n",
    "score10 = live(x10)\n",
    "score11 = live(x11)\n",
    "score12 = live(x12)\n",
    "score13 = live(x13)"
   ]
  },
  {
   "cell_type": "code",
   "execution_count": 13,
   "metadata": {},
   "outputs": [
    {
     "name": "stdout",
     "output_type": "stream",
     "text": [
      "0.9228333830833435\n",
      "0.5270982384681702\n",
      "0.8903096318244934\n",
      "0.851158857345581\n",
      "0.9101076722145081\n",
      "0.857612669467926\n",
      "0.9686870574951172\n",
      "0.9632026553153992\n",
      "0.9575117230415344\n",
      "0.8724372386932373\n",
      "0.021922152489423752\n",
      "0.4994034767150879\n",
      "0.9414682388305664\n"
     ]
    }
   ],
   "source": [
    "print(score1)\n",
    "print(score2)\n",
    "print(score3)\n",
    "print(score4)\n",
    "print(score5)\n",
    "print(score6)\n",
    "print(score7)\n",
    "print(score8)\n",
    "print(score9)\n",
    "print(score10)\n",
    "print(score11)\n",
    "print(score12)\n",
    "print(score13)"
   ]
  },
  {
   "cell_type": "code",
   "execution_count": null,
   "metadata": {},
   "outputs": [],
   "source": []
  }
 ],
 "metadata": {
  "kernelspec": {
   "display_name": "base",
   "language": "python",
   "name": "python3"
  },
  "language_info": {
   "codemirror_mode": {
    "name": "ipython",
    "version": 3
   },
   "file_extension": ".py",
   "mimetype": "text/x-python",
   "name": "python",
   "nbconvert_exporter": "python",
   "pygments_lexer": "ipython3",
   "version": "3.11.5"
  }
 },
 "nbformat": 4,
 "nbformat_minor": 2
}
