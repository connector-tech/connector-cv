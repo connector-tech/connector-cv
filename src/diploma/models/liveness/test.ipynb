{
 "cells": [
  {
   "cell_type": "code",
   "execution_count": 1,
   "metadata": {},
   "outputs": [],
   "source": [
    "import cv2\n",
    "import matplotlib.pyplot as plt\n",
    "\n",
    "from diploma.drawing import draw_landmarks, draw_rectangles\n",
    "from diploma.models import LivenessPytorch, LivenessONNX"
   ]
  },
  {
   "cell_type": "code",
   "execution_count": 2,
   "metadata": {},
   "outputs": [],
   "source": [
    "x1 = cv2.imread(\"E:/kbtu_courses/diploma_project/src/diploma/photos/blur_1.jpg\")\n",
    "x2 = cv2.imread(\"E:/kbtu_courses/diploma_project/src/diploma/photos/attack1.jpg\")\n",
    "x3 = cv2.imread(\"E:/kbtu_courses/diploma_project/src/diploma/photos/attack2.jpg\")\n",
    "x4 = cv2.imread(\"E:/kbtu_courses/diploma_project/src/diploma/photos/attack3.jpg\")\n",
    "x5 = cv2.imread(\"E:/kbtu_courses/diploma_project/src/diploma/photos/attack4.jpg\")"
   ]
  },
  {
   "cell_type": "code",
   "execution_count": 3,
   "metadata": {},
   "outputs": [],
   "source": [
    "live = LivenessPytorch(\"E:/kbtu_courses/diploma_project/src/diploma/models/liveness/weights/liveness_v5.pt\")\n",
    "live1 = LivenessONNX(\"E:/kbtu_courses/diploma_project/src/diploma/models/liveness/weights/model_liveness.onnx\")"
   ]
  },
  {
   "cell_type": "code",
   "execution_count": 4,
   "metadata": {},
   "outputs": [],
   "source": [
    "score1 = live(x1)\n",
    "score2 = live(x2)\n",
    "score3 = live(x3)\n",
    "score4 = live(x4)\n",
    "score5 = live(x5)"
   ]
  },
  {
   "cell_type": "code",
   "execution_count": 5,
   "metadata": {},
   "outputs": [
    {
     "name": "stdout",
     "output_type": "stream",
     "text": [
      "0.9615535140037537\n",
      "0.03528141602873802\n",
      "0.9836525917053223\n",
      "0.6189371943473816\n",
      "0.12302571535110474\n"
     ]
    }
   ],
   "source": [
    "print(score1)\n",
    "print(score2)\n",
    "print(score3)\n",
    "print(score4)\n",
    "print(score5)"
   ]
  },
  {
   "cell_type": "code",
   "execution_count": 4,
   "metadata": {},
   "outputs": [],
   "source": [
    "score1 = live1(x1)\n",
    "score2 = live1(x2)\n",
    "score3 = live1(x3)\n",
    "score4 = live1(x4)\n",
    "score5 = live1(x5)"
   ]
  },
  {
   "cell_type": "code",
   "execution_count": 5,
   "metadata": {},
   "outputs": [
    {
     "name": "stdout",
     "output_type": "stream",
     "text": [
      "0.9615534\n",
      "0.03528127\n",
      "0.9836526\n",
      "0.6189367\n",
      "0.12302448\n"
     ]
    }
   ],
   "source": [
    "print(score1)\n",
    "print(score2)\n",
    "print(score3)\n",
    "print(score4)\n",
    "print(score5)"
   ]
  },
  {
   "cell_type": "code",
   "execution_count": null,
   "metadata": {},
   "outputs": [],
   "source": [
    "x1 = cv2.imread(\"E:/kbtu_courses/diploma_project/src/diploma/photos/Asyl_Big1.jpg\")\n",
    "x2 = cv2.imread(\"E:/kbtu_courses/diploma_project/src/diploma/photos/Asyl_Big2.jpg\")\n",
    "x3 = cv2.imread(\"E:/kbtu_courses/diploma_project/src/diploma/photos/Asyl_Big3.jpg\")\n",
    "x4 = cv2.imread(\"E:/kbtu_courses/diploma_project/src/diploma/photos/MyPhoto1.jpg\")\n",
    "x5 = cv2.imread(\"E:/kbtu_courses/diploma_project/src/diploma/photos/MyPhoto2.jpg\")"
   ]
  },
  {
   "cell_type": "code",
   "execution_count": null,
   "metadata": {},
   "outputs": [],
   "source": [
    "score1 = live(x1)\n",
    "score2 = live(x2)\n",
    "score3 = live(x3)\n",
    "score4 = live(x4)\n",
    "score5 = live(x5)"
   ]
  },
  {
   "cell_type": "code",
   "execution_count": null,
   "metadata": {},
   "outputs": [
    {
     "name": "stdout",
     "output_type": "stream",
     "text": [
      "0.9664719104766846\n",
      "0.9935622215270996\n",
      "0.5308693051338196\n",
      "0.8854167461395264\n",
      "0.45491525530815125\n"
     ]
    }
   ],
   "source": [
    "print(score1)\n",
    "print(score2)\n",
    "print(score3)\n",
    "print(score4)\n",
    "print(score5)"
   ]
  },
  {
   "cell_type": "code",
   "execution_count": null,
   "metadata": {},
   "outputs": [],
   "source": []
  }
 ],
 "metadata": {
  "kernelspec": {
   "display_name": "base",
   "language": "python",
   "name": "python3"
  },
  "language_info": {
   "codemirror_mode": {
    "name": "ipython",
    "version": 3
   },
   "file_extension": ".py",
   "mimetype": "text/x-python",
   "name": "python",
   "nbconvert_exporter": "python",
   "pygments_lexer": "ipython3",
   "version": "3.11.5"
  }
 },
 "nbformat": 4,
 "nbformat_minor": 2
}
