{
 "cells": [
  {
   "cell_type": "markdown",
   "metadata": {},
   "source": [
    "Логика работы такая. Одним из этапов регистрации/входа прохождение идентификации через камеру. Должна быть страница на которой человек должен дать доступ камере через которую он будет проходить аутентификацию. Он должен будет поместить лицо в два квадрата второй чуть меньше. Как только он включил камеру и до того момента пока он не поместит лицо в последний овал должны будут сохранятся кадры в jpg каждые 1-5 секунд. "
   ]
  },
  {
   "cell_type": "markdown",
   "metadata": {},
   "source": [
    "Все кадры нужно сохранить в базу отдельной сессией и название фоток должны содержать номер сессии.\n",
    "Например сессия1-1 сессия1-2. К каждому аккаунту должен будет привязан номер сессии при первом прохождении. Но при этом сессии должны будут сохранятся при каждом прохождении."
   ]
  },
  {
   "cell_type": "markdown",
   "metadata": {},
   "source": [
    "Теперь после того как все кадры будут собраны нужно будет провести все фотографии через модель detector чтобы получить координаты лица, носа кончиков рта и глаз. После надо будет провести все кадры через bestframer чтобы получить score для каждого кадра. После нужно будет сохранить в базу в ту же сессию лучше 5 фотографии(если не будут проходить через трешхолд то может быть и меньше) еще одну папку в той же сессии. На этом заканчивается регистрация. Если же это не первый вход то нужно будет сравнить наилучшие кадры первой сессии и нынешней. Если всё ок то пропускаем дальше."
   ]
  },
  {
   "cell_type": "code",
   "execution_count": 11,
   "metadata": {},
   "outputs": [],
   "source": [
    "import os\n",
    "import time\n",
    "import cv2\n",
    "\n",
    "from diploma.models.detector import FaceDetector\n",
    "from diploma.drawing import draw_landmarks, draw_rectangles\n",
    "\n",
    "detector = FaceDetector(\"E:\\kbtu_courses\\diploma_project\\src\\diploma\\models\\detector\\weights\\model_detector.onnx\")\n",
    "\n",
    "axes = (100, 150)    \n",
    "angle = 0            \n",
    "startAngle = 0       \n",
    "endAngle = 360       \n",
    "color = (0, 255, 0)  \n",
    "thickness = 2  \n",
    "\n",
    "cap = cv2.VideoCapture(0)\n",
    "\n",
    "if not cap.isOpened():\n",
    "    print(\"Error: Could not open camera.\")\n",
    "    exit()\n",
    "\n",
    "output_dir = 'E:/kbtu_courses/diploma_project/src/diploma/pipeline/frames'\n",
    "\n",
    "save_interval = 4\n",
    "start_time = time.time()\n",
    "\n",
    "end_capture = False\n",
    "\n",
    "while True:\n",
    "    ret, frame = cap.read()\n",
    "\n",
    "    if time.time() - start_time >= save_interval:\n",
    "        #filename = os.path.join(output_dir, f\"frame_{int(time.time())}.jpg\")\n",
    "        #cv2.imwrite(filename, frame)\n",
    "        start_time = time.time()\n",
    "\n",
    "    boxes, landmarks = detector.detect(frame, input_size=(640, 640))\n",
    "\n",
    "    center = (frame.shape[1] // 2, frame.shape[0] // 2)\n",
    "\n",
    "    cv2.ellipse(frame, center, axes, angle, startAngle, endAngle, color, thickness)\n",
    "\n",
    "\n",
    "    x1 = center[0] - axes[0] - 20\n",
    "    y1 = center[1] - axes[1] - 20\n",
    "\n",
    "    x2 = x1 + 2 * axes[0] + 40\n",
    "    y2 = y1 + 2 * axes[1] + 40\n",
    "\n",
    "    cv2.rectangle(frame, (x1, y1), (x2, y2), color, thickness)\n",
    "\n",
    "    frame = draw_rectangles(frame, bboxes = boxes, override=True)\n",
    "    frame = draw_landmarks(frame, landmarks=landmarks)\n",
    "\n",
    "    if (boxes[0][0] >= x1) and (boxes[0][1] >= y1) and (boxes[0][2] <= x2) and (boxes[0][3] <= y2):\n",
    "        end_capture = True\n",
    "\n",
    "    if not ret:\n",
    "        print(\"Error: Could not capture frame.\")\n",
    "        break\n",
    "\n",
    "    cv2.imshow('Camera', frame)\n",
    "\n",
    "    if cv2.waitKey(1) & 0xFF == ord('q'):\n",
    "        break\n",
    "\n",
    "\n",
    "cap.release()\n",
    "cv2.destroyAllWindows()\n"
   ]
  },
  {
   "cell_type": "code",
   "execution_count": null,
   "metadata": {},
   "outputs": [],
   "source": [
    "face1 = cv2.imread(\"photo\")\n",
    "face2 = cv2.imread(\"photo\")\n",
    "\n",
    "face_bbox1, face_landmarks1 = FaceDetector(face1)\n",
    "face_bbox2, face_landmarks2 = FaceDetector(face2)\n",
    "\n",
    "\n",
    "aligned1 = align_face(face1, face_bbox1[0][:-1], face_landmarks1[0])\n",
    "aligned2 = align_face(face2, face_bbox2[0][:-1], face_landmarks2[0])\n",
    "\n",
    "embedding1 = FaceRecognition(aligned1)\n",
    "embedding2 = FaceRecognition(aligned2)\n",
    "\n",
    "sim = cosine_simularity(embedding1, embedding2)\n",
    "\n",
    "print(sim)"
   ]
  }
 ],
 "metadata": {
  "kernelspec": {
   "display_name": "base",
   "language": "python",
   "name": "python3"
  },
  "language_info": {
   "codemirror_mode": {
    "name": "ipython",
    "version": 3
   },
   "file_extension": ".py",
   "mimetype": "text/x-python",
   "name": "python",
   "nbconvert_exporter": "python",
   "pygments_lexer": "ipython3",
   "version": "3.11.5"
  }
 },
 "nbformat": 4,
 "nbformat_minor": 2
}
